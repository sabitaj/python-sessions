{
 "cells": [
  {
   "cell_type": "markdown",
   "id": "600ba3ed",
   "metadata": {},
   "source": [
    "#### Local and global variable"
   ]
  },
  {
   "cell_type": "code",
   "execution_count": 4,
   "id": "2f0e4c3e",
   "metadata": {},
   "outputs": [
    {
     "name": "stdout",
     "output_type": "stream",
     "text": [
      "Inside function\n",
      "num1 local =  200 num2 local =  500\n",
      "The total =  700\n",
      "\n",
      "Num1 global =  20\n",
      "num2 global =  50\n",
      "Outside function, total =  70\n"
     ]
    }
   ],
   "source": [
    "num1=20\n",
    "num2=50\n",
    "\n",
    "def addition():\n",
    "    num1=200\n",
    "    num2=500\n",
    "    \n",
    "    print(\"num1 local = \",num1, \"num2 local = \",num2)\n",
    "    print(\"The total = \",num1+num2)\n",
    "\n",
    "\n",
    "print(\"Inside function\")\n",
    "addition()\n",
    "print()\n",
    "\n",
    "print(\"num1 global = \",num1)\n",
    "print(\"num2 global = \",num2)\n",
    "print(\"Outside function, total = \",num1+num2)"
   ]
  },
  {
   "cell_type": "markdown",
   "id": "60827d14",
   "metadata": {},
   "source": [
    "### Making local variable global use global keyword\n",
    "* We have to call the function\n",
    "* CAnt assign value to a variable while using global keyword"
   ]
  },
  {
   "cell_type": "code",
   "execution_count": 5,
   "id": "fc38e450",
   "metadata": {},
   "outputs": [
    {
     "ename": "NameError",
     "evalue": "name 'num10' is not defined",
     "output_type": "error",
     "traceback": [
      "\u001b[1;31m---------------------------------------------------------------------------\u001b[0m",
      "\u001b[1;31mNameError\u001b[0m                                 Traceback (most recent call last)",
      "Cell \u001b[1;32mIn[5], line 5\u001b[0m\n\u001b[0;32m      2\u001b[0m     num10\u001b[38;5;241m=\u001b[39m\u001b[38;5;241m100\u001b[39m\n\u001b[0;32m      3\u001b[0m     \u001b[38;5;28mprint\u001b[39m(\u001b[38;5;124m\"\u001b[39m\u001b[38;5;124mLocal num10 = \u001b[39m\u001b[38;5;124m\"\u001b[39m,num10)\n\u001b[1;32m----> 5\u001b[0m \u001b[38;5;28mprint\u001b[39m(\u001b[38;5;124m\"\u001b[39m\u001b[38;5;124mGlobal num10 = \u001b[39m\u001b[38;5;124m\"\u001b[39m,num10)\n",
      "\u001b[1;31mNameError\u001b[0m: name 'num10' is not defined"
     ]
    }
   ],
   "source": [
    "def show():\n",
    "    num10=100\n",
    "    print(\"Local num10 = \",num10)\n",
    "\n",
    "print(\"Global num10 = \",num10)"
   ]
  },
  {
   "cell_type": "code",
   "execution_count": 10,
   "id": "5fc79bc5",
   "metadata": {},
   "outputs": [
    {
     "name": "stdout",
     "output_type": "stream",
     "text": [
      "Local num10 =  100\n",
      "Global num10 =  100\n"
     ]
    }
   ],
   "source": [
    "def show():\n",
    "    global num10\n",
    "    num10=100\n",
    "    print(\"Local num10 = \",num10)\n",
    "    \n",
    "show()\n",
    "\n",
    "print(\"Global num10 = \",num10)"
   ]
  },
  {
   "cell_type": "code",
   "execution_count": 11,
   "id": "86d335b2",
   "metadata": {},
   "outputs": [
    {
     "name": "stdout",
     "output_type": "stream",
     "text": [
      "Inside function\n",
      "Addition =  800\n",
      "\n",
      "outside function\n",
      "n2=  300 add =  800\n"
     ]
    }
   ],
   "source": [
    "n1=20\n",
    "n2=30\n",
    "def addition(n1):\n",
    "    global n2,add\n",
    "    n2=300\n",
    "    add=n1+n2\n",
    "    print(\"Addition = \",add)\n",
    "    \n",
    "print(\"Inside function\")\n",
    "addition(500)\n",
    "\n",
    "print()\n",
    "print(\"outside function\")\n",
    "print(\"n2= \",n2, \"add = \", add)"
   ]
  },
  {
   "cell_type": "markdown",
   "id": "3d7d8a54",
   "metadata": {},
   "source": [
    "# Function in function "
   ]
  },
  {
   "cell_type": "code",
   "execution_count": 12,
   "id": "a1b87091",
   "metadata": {},
   "outputs": [
    {
     "name": "stdout",
     "output_type": "stream",
     "text": [
      "Hello!\n",
      "Python\n"
     ]
    }
   ],
   "source": [
    "def greet():\n",
    "    print(\"Hello!\")\n",
    "    \n",
    "def name():\n",
    "    print('Python')\n",
    "    \n",
    "greet()\n",
    "name()"
   ]
  },
  {
   "cell_type": "code",
   "execution_count": 15,
   "id": "2eb374ba",
   "metadata": {},
   "outputs": [
    {
     "name": "stdout",
     "output_type": "stream",
     "text": [
      "Hello!\n",
      "Xyz\n"
     ]
    }
   ],
   "source": [
    "def greet():\n",
    "    print(\"Hello!\")\n",
    "    \n",
    "def name(nm):\n",
    "    greet()\n",
    "    print(nm)\n",
    "    \n",
    "name('Xyz')"
   ]
  },
  {
   "cell_type": "markdown",
   "id": "1f872452",
   "metadata": {},
   "source": [
    "# Defining a function after calling it"
   ]
  },
  {
   "cell_type": "code",
   "execution_count": 16,
   "id": "f1c8cadc",
   "metadata": {},
   "outputs": [
    {
     "ename": "NameError",
     "evalue": "name 'showing' is not defined",
     "output_type": "error",
     "traceback": [
      "\u001b[1;31m---------------------------------------------------------------------------\u001b[0m",
      "\u001b[1;31mNameError\u001b[0m                                 Traceback (most recent call last)",
      "Cell \u001b[1;32mIn[16], line 1\u001b[0m\n\u001b[1;32m----> 1\u001b[0m showing()\n\u001b[0;32m      3\u001b[0m \u001b[38;5;28;01mdef\u001b[39;00m \u001b[38;5;21mshowing\u001b[39m():\n\u001b[0;32m      4\u001b[0m     \u001b[38;5;28mprint\u001b[39m(\u001b[38;5;124m\"\u001b[39m\u001b[38;5;124mTrying to call a function before defining it\u001b[39m\u001b[38;5;124m\"\u001b[39m)\n",
      "\u001b[1;31mNameError\u001b[0m: name 'showing' is not defined"
     ]
    }
   ],
   "source": [
    "showing()\n",
    "\n",
    "def showing():\n",
    "    print(\"Trying to call a function before defining it\")"
   ]
  },
  {
   "cell_type": "code",
   "execution_count": 31,
   "id": "24b01fbf",
   "metadata": {},
   "outputs": [
    {
     "name": "stdout",
     "output_type": "stream",
     "text": [
      "    Calculation\n",
      "====================\n",
      "1. Addition\n",
      "2. Subtraction\n",
      "3. Multiplication\n",
      "4. Division\n",
      "\n",
      "Enter your choice 3\n",
      "Enter first number: 4\n",
      "Enter second number: 2\n",
      "\n",
      "Multiplication =  8\n"
     ]
    }
   ],
   "source": [
    "def addition(a,b):\n",
    "    sum=a+b\n",
    "    print(\"Total = \",sum)\n",
    "    \n",
    "def subtraction(a,b):\n",
    "    sub=a-b\n",
    "    print(\"Subtraction = \",sub)\n",
    "\n",
    "    \n",
    "def multiplication(a,b):\n",
    "    mul=a*b\n",
    "    print(\"Multiplication = \",mul)\n",
    "    \n",
    "def division(a,b):\n",
    "    div=a/b\n",
    "    print(\"Division = \",div)\n",
    "    \n",
    "def main():\n",
    "    print(\"    Calculation\")\n",
    "    print(\"====================\")\n",
    "    print(\"1. Addition\")\n",
    "    print(\"2. Subtraction\")\n",
    "    print(\"3. Multiplication\")\n",
    "    print(\"4. Division\") \n",
    "    print()\n",
    "    choice=eval(input(\"Enter your choice \"))\n",
    "    \n",
    "    if(choice>4):\n",
    "        print(\"Enter a valid choice: \")\n",
    "    else:\n",
    "        no1=eval(input(\"Enter first number: \"))\n",
    "        no2=eval(input(\"Enter second number: \"))\n",
    "        print()\n",
    "        \n",
    "        if (choice==1):\n",
    "            addition(no1,no2)\n",
    "        elif (choice==2):\n",
    "            subtraction(no1,no2)\n",
    "        elif (choice==3):\n",
    "            multiplication(no1,no2)\n",
    "        else:\n",
    "            division(no1,no2)\n",
    "   \n",
    "        \n",
    "main()"
   ]
  },
  {
   "cell_type": "code",
   "execution_count": null,
   "id": "f1912c86",
   "metadata": {},
   "outputs": [],
   "source": []
  }
 ],
 "metadata": {
  "kernelspec": {
   "display_name": "Python 3 (ipykernel)",
   "language": "python",
   "name": "python3"
  },
  "language_info": {
   "codemirror_mode": {
    "name": "ipython",
    "version": 3
   },
   "file_extension": ".py",
   "mimetype": "text/x-python",
   "name": "python",
   "nbconvert_exporter": "python",
   "pygments_lexer": "ipython3",
   "version": "3.11.5"
  }
 },
 "nbformat": 4,
 "nbformat_minor": 5
}
