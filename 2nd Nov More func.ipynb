{
 "cells": [
  {
   "cell_type": "markdown",
   "id": "e8bbe465",
   "metadata": {},
   "source": [
    "### Functions\n",
    "\n",
    "import math\n",
    "math.pi\n",
    "round(num,exponent)\n"
   ]
  },
  {
   "cell_type": "code",
   "execution_count": 2,
   "id": "fc25a7ee",
   "metadata": {},
   "outputs": [
    {
     "name": "stdout",
     "output_type": "stream",
     "text": [
      "3.141592653589793\n",
      "78.53981633974483\n"
     ]
    }
   ],
   "source": [
    "import math\n",
    "pai=math.pi\n",
    "pai\n",
    "print(pai)\n",
    "r=5\n",
    "area=pai*r*r\n",
    "print(area)"
   ]
  },
  {
   "cell_type": "code",
   "execution_count": 3,
   "id": "29a73124",
   "metadata": {},
   "outputs": [
    {
     "name": "stdout",
     "output_type": "stream",
     "text": [
      "3.141592653589793\n",
      "78.54\n"
     ]
    }
   ],
   "source": [
    "import math\n",
    "pai=math.pi\n",
    "pai\n",
    "print(pai)\n",
    "r=5\n",
    "area=round((pai*r*r),3)\n",
    "print(area)"
   ]
  },
  {
   "cell_type": "markdown",
   "id": "5d55236c",
   "metadata": {},
   "source": [
    "### Return values\n",
    "\n",
    "We can return more than 1 variable, then save them in a new variable while calling\n",
    "\n",
    "Example:\n",
    "return(x,y,z)\n",
    "\n",
    "a,b,c=function call()"
   ]
  },
  {
   "cell_type": "code",
   "execution_count": 9,
   "id": "e5cf8aa1",
   "metadata": {},
   "outputs": [
    {
     "name": "stdout",
     "output_type": "stream",
     "text": [
      "78.53981633974483\n"
     ]
    },
    {
     "ename": "NameError",
     "evalue": "name 'area1' is not defined",
     "output_type": "error",
     "traceback": [
      "\u001b[1;31m---------------------------------------------------------------------------\u001b[0m",
      "\u001b[1;31mNameError\u001b[0m                                 Traceback (most recent call last)",
      "Cell \u001b[1;32mIn[9], line 9\u001b[0m\n\u001b[0;32m      6\u001b[0m     \u001b[38;5;28mprint\u001b[39m (area1)\n\u001b[0;32m      8\u001b[0m area_circle(\u001b[38;5;241m5\u001b[39m)\n\u001b[1;32m----> 9\u001b[0m \u001b[38;5;28mprint\u001b[39m(\u001b[38;5;124m\"\u001b[39m\u001b[38;5;124marea : \u001b[39m\u001b[38;5;124m\"\u001b[39m,area1)\n",
      "\u001b[1;31mNameError\u001b[0m: name 'area1' is not defined"
     ]
    }
   ],
   "source": [
    "import math\n",
    "def area_circle(r):\n",
    "    pai=math.pi\n",
    "    \n",
    "    area1=pai*r*r\n",
    "    print (area1)\n",
    "\n",
    "area_circle(5)\n",
    "print(\"area : \",area1) # area1 variable inside function, not available outside"
   ]
  },
  {
   "cell_type": "code",
   "execution_count": 21,
   "id": "e91ce3ae",
   "metadata": {},
   "outputs": [
    {
     "name": "stdout",
     "output_type": "stream",
     "text": [
      "254.34\n",
      "area :  254.34 Pai=  3.14\n"
     ]
    }
   ],
   "source": [
    "import math\n",
    "def area_circle(r):\n",
    "    pai=round(math.pi,2)\n",
    "    \n",
    "    area=round((pai*r*r),3)\n",
    "    print (area)\n",
    "    \n",
    "    return (area,pai)\n",
    "\n",
    "area,new_pi=area_circle(9)\n",
    "print(\"area : \",area,\"Pai= \",new_pi) "
   ]
  },
  {
   "cell_type": "code",
   "execution_count": 25,
   "id": "5674a12d",
   "metadata": {},
   "outputs": [
    {
     "name": "stdout",
     "output_type": "stream",
     "text": [
      "Please entr a number:10\n",
      "The total of 10, 20 and 30 = 60\n",
      "The average of 10, 20 and 30 = 20.0\n"
     ]
    }
   ],
   "source": [
    "try:\n",
    "    def avg_sum(num1,num2=20,num3=30):\n",
    "        sum=num1+num2+num3\n",
    "        avg=sum/3\n",
    "        \n",
    "        return(sum,avg)\n",
    "    \n",
    "    num_1=eval(input(\"Please entr a number:\"))\n",
    "    total,average=avg_sum(num_1)\n",
    "    print(\"The total of {}, 20 and 30 = {}\".format(num_1,total))\n",
    "    print(\"The average of {}, 20 and 30 = {}\".format(num_1,average))\n",
    "    \n",
    "    \n",
    "except Exception as err:\n",
    "    print(err)"
   ]
  },
  {
   "cell_type": "code",
   "execution_count": 26,
   "id": "133f55f5",
   "metadata": {},
   "outputs": [
    {
     "ename": "SyntaxError",
     "evalue": "invalid syntax (729277346.py, line 2)",
     "output_type": "error",
     "traceback": [
      "\u001b[1;36m  Cell \u001b[1;32mIn[26], line 2\u001b[1;36m\u001b[0m\n\u001b[1;33m    def avg_sum(num1,num2=20,30):\u001b[0m\n\u001b[1;37m                             ^\u001b[0m\n\u001b[1;31mSyntaxError\u001b[0m\u001b[1;31m:\u001b[0m invalid syntax\n"
     ]
    }
   ],
   "source": [
    "try:\n",
    "    def avg_sum(num1,num2=20,30):\n",
    "        sum=num1+num2+num3\n",
    "        avg=sum/3\n",
    "        \n",
    "        return(sum,avg)\n",
    "    \n",
    "    num_1=eval(input(\"Please entr a number:\"))\n",
    "    total,average=avg_sum(num_1)\n",
    "    print(\"The total of {}, 20 and 30 = {}\".format(num_1,total))\n",
    "    print(\"The average of {}, 20 and 30 = {}\".format(num_1,average))\n",
    "    \n",
    "    \n",
    "except Exception as err:\n",
    "    print(err)\n",
    "    \n",
    "    \n",
    "### Not possible, as during definition we cant fixed values as parameters, can be done only during function call"
   ]
  },
  {
   "cell_type": "code",
   "execution_count": null,
   "id": "6df65423",
   "metadata": {},
   "outputs": [],
   "source": [
    "def test(50):\n",
    "    print(\"Number = \",)"
   ]
  },
  {
   "cell_type": "code",
   "execution_count": 30,
   "id": "7f0130ee",
   "metadata": {},
   "outputs": [
    {
     "name": "stdout",
     "output_type": "stream",
     "text": [
      "Please entr a number:40\n",
      "The total of 40, 50 and 50 = 140\n",
      "The average of 40, 50 and 50 = 46.666666666666664\n"
     ]
    }
   ],
   "source": [
    "try:\n",
    "    def avg_sum(num1,num2=20,num3=30):\n",
    "        sum=num1+num2+num3\n",
    "        avg=sum/3\n",
    "        \n",
    "        return(sum,avg)\n",
    "    \n",
    "    num_1=eval(input(\"Please entr a number:\"))\n",
    "    total,average=avg_sum(num_1,50,50)\n",
    "    print(\"The total of {}, 50 and 50 = {}\".format(num_1,total))\n",
    "    print(\"The average of {}, 50 and 50 = {}\".format(num_1,average))\n",
    "    \n",
    "    \n",
    "except Exception as err:\n",
    "    print(err)"
   ]
  },
  {
   "cell_type": "code",
   "execution_count": 33,
   "id": "9a93912a",
   "metadata": {},
   "outputs": [
    {
     "name": "stdout",
     "output_type": "stream",
     "text": [
      "Largest number =  4000\n"
     ]
    }
   ],
   "source": [
    "try:\n",
    "    \n",
    "    def biggest(n1,n2,n3):\n",
    "        if (n1>n2 and n1>n3):\n",
    "            return(n1)\n",
    "        elif(n2>n3):\n",
    "            return(n2)\n",
    "        else:\n",
    "            return(n3)\n",
    "        \n",
    "    big=biggest(39,4000,500)\n",
    "    print(\"Largest number = \",big)\n",
    "    \n",
    "except Exception as err:\n",
    "    print(err)"
   ]
  },
  {
   "cell_type": "code",
   "execution_count": 34,
   "id": "2ab24d1b",
   "metadata": {},
   "outputs": [
    {
     "name": "stdout",
     "output_type": "stream",
     "text": [
      "70 30 1000 2.5\n"
     ]
    }
   ],
   "source": [
    "def aggregation(a,b):\n",
    "    return(a+b,a-b,a*b,a/b)\n",
    "\n",
    "add,sub,mul,div=aggregation(50,20)\n",
    "\n",
    "print(add,sub,mul,div)"
   ]
  },
  {
   "cell_type": "code",
   "execution_count": 36,
   "id": "4659fa21",
   "metadata": {},
   "outputs": [
    {
     "name": "stdout",
     "output_type": "stream",
     "text": [
      "(70, 30, 1000, 2.5)\n"
     ]
    }
   ],
   "source": [
    "def aggregation(a,b):\n",
    "    return(a+b,a-b,a*b,a/b)\n",
    "\n",
    "value=aggregation(50,20)\n",
    "\n",
    "print(value)"
   ]
  },
  {
   "cell_type": "code",
   "execution_count": 37,
   "id": "f3731d2f",
   "metadata": {},
   "outputs": [],
   "source": [
    "def add(a,b):return(a+b)   # No error"
   ]
  },
  {
   "cell_type": "code",
   "execution_count": 38,
   "id": "9a3e5dd3",
   "metadata": {},
   "outputs": [
    {
     "data": {
      "text/plain": [
       "9"
      ]
     },
     "execution_count": 38,
     "metadata": {},
     "output_type": "execute_result"
    }
   ],
   "source": [
    "add(4,5)"
   ]
  },
  {
   "cell_type": "code",
   "execution_count": null,
   "id": "741410c0",
   "metadata": {},
   "outputs": [],
   "source": []
  }
 ],
 "metadata": {
  "kernelspec": {
   "display_name": "Python 3 (ipykernel)",
   "language": "python",
   "name": "python3"
  },
  "language_info": {
   "codemirror_mode": {
    "name": "ipython",
    "version": 3
   },
   "file_extension": ".py",
   "mimetype": "text/x-python",
   "name": "python",
   "nbconvert_exporter": "python",
   "pygments_lexer": "ipython3",
   "version": "3.11.5"
  }
 },
 "nbformat": 4,
 "nbformat_minor": 5
}
