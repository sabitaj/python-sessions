{
 "cells": [
  {
   "cell_type": "markdown",
   "id": "66113d7e",
   "metadata": {},
   "source": [
    "***Functions with arguments and return values"
   ]
  },
  {
   "cell_type": "code",
   "execution_count": 18,
   "id": "a9385de3",
   "metadata": {},
   "outputs": [
    {
     "name": "stdout",
     "output_type": "stream",
     "text": [
      "Enter a number: 32\n",
      "Random number generated =  10\n",
      "Since both the numbers are NOT equal sorry to say, YOU LOST\n"
     ]
    }
   ],
   "source": [
    "try:\n",
    "    import random\n",
    "    def random_no(num1):\n",
    "        try:\n",
    "            num2=random.randint(1,20)\n",
    "            print(\"Random number generated = \",num2)\n",
    "            if (num1==num2):\n",
    "                print(\"Since both the numbers are equal YOU WON\")\n",
    "            else:\n",
    "                print(\"Since both the numbers are NOT equal sorry to say, YOU LOST\")\n",
    "\n",
    "        except Exception as err:\n",
    "            print(err)\n",
    "\n",
    "    #a=eval(input(\"Enter a number: \"))\n",
    "    #random_no(a)\n",
    "    random_no(eval(input(\"Enter a number: \")))\n",
    "    \n",
    "except Exception as err:\n",
    "    print(err)"
   ]
  },
  {
   "cell_type": "code",
   "execution_count": null,
   "id": "50292a7c",
   "metadata": {},
   "outputs": [],
   "source": []
  },
  {
   "cell_type": "code",
   "execution_count": null,
   "id": "dcf830d9",
   "metadata": {},
   "outputs": [],
   "source": []
  },
  {
   "cell_type": "code",
   "execution_count": 22,
   "id": "c5643a06",
   "metadata": {},
   "outputs": [
    {
     "name": "stdout",
     "output_type": "stream",
     "text": [
      "Enter a number: 2\n",
      "Random number generated =  6\n",
      "Since both the numbers are NOT equal sorry to say, YOU LOST\n"
     ]
    }
   ],
   "source": [
    "### ERROR\n",
    "try:\n",
    "    import random\n",
    "    def random_no(num1,num2):\n",
    "        try:\n",
    "            #num2=random.randint(1,20)\n",
    "            print(\"Random number generated = \",num1)\n",
    "            if (num1==num2):\n",
    "                print(\"Since both the numbers are equal YOU WON\")\n",
    "            else:\n",
    "                print(\"Since both the numbers are NOT equal sorry to say, YOU LOST\")\n",
    "\n",
    "        except Exception as err:\n",
    "            print(err)\n",
    "\n",
    "    #a=eval(input(\"Enter a number: \"))\n",
    "    #random_no(a)\n",
    "    random_no(random.randint(1,20),eval(input(\"Enter a number: \")))\n",
    "    \n",
    "except Exception as err:\n",
    "    print(err)"
   ]
  },
  {
   "cell_type": "code",
   "execution_count": 25,
   "id": "14453c89",
   "metadata": {},
   "outputs": [
    {
     "name": "stdout",
     "output_type": "stream",
     "text": [
      "Enter your salary: 10000\n",
      "Enter your tax: 10\n",
      "your tax amount =  1000.0\n"
     ]
    }
   ],
   "source": [
    "try:\n",
    "    def total_tax(sal,tax):\n",
    "        tax_amnt=(sal*tax)/100\n",
    "        print(\"your tax amount = \",tax_amnt)\n",
    "        \n",
    "    salary=eval(input(\"Enter your salary: \"))\n",
    "    tax=eval(input(\"Enter your tax: \"))\n",
    "    total_tax(salary,tax)\n",
    "\n",
    "except Exception as err:\n",
    "    print(err)"
   ]
  },
  {
   "cell_type": "code",
   "execution_count": 27,
   "id": "1e99d582",
   "metadata": {},
   "outputs": [
    {
     "name": "stdout",
     "output_type": "stream",
     "text": [
      "Enter your salary: 10000\n",
      "Enter your tax: 10\n",
      "your tax amount =  1000.0\n"
     ]
    }
   ],
   "source": [
    "try:\n",
    "    def total_tax(sal,tax):\n",
    "        tax_amnt=(sal*tax)/100\n",
    "        print(\"your tax amount = \",tax_amnt)\n",
    "        \n",
    "    total_tax(eval(input(\"Enter your salary: \")),eval(input(\"Enter your tax: \")))\n",
    "\n",
    "except Exception as err:\n",
    "    print(err)"
   ]
  },
  {
   "cell_type": "code",
   "execution_count": 28,
   "id": "e838dbf0",
   "metadata": {},
   "outputs": [
    {
     "name": "stdout",
     "output_type": "stream",
     "text": [
      "Enter your salary: 10000\n",
      "your tax amount =  700.0\n"
     ]
    }
   ],
   "source": [
    "import random\n",
    "try:\n",
    "    def total_tax(sal,tax):\n",
    "        tax_amnt=(sal*tax)/100\n",
    "        print(\"your tax amount = \",tax_amnt)\n",
    "        \n",
    "    total_tax(eval(input(\"Enter your salary: \")),random.randint(5,15))\n",
    "\n",
    "except Exception as err:\n",
    "    print(err)"
   ]
  },
  {
   "cell_type": "markdown",
   "id": "32876b7a",
   "metadata": {},
   "source": [
    "# Default arguments or parametrs:\n",
    "Even if you provide a new value to the default parameter, it will store the latest value\n",
    "\n",
    "def(n1,n2,n3=5)   => Possible\n",
    "\n",
    "def(n1,n2=5,n3)   => Not possible (non-default arguments follow default arguments which is an error, so mention non default                                                                 first)\n",
    "    "
   ]
  },
  {
   "cell_type": "code",
   "execution_count": 33,
   "id": "8220f526",
   "metadata": {},
   "outputs": [
    {
     "name": "stdout",
     "output_type": "stream",
     "text": [
      "Enter your salary: 10000\n",
      "your tax amount =  1500.0\n"
     ]
    }
   ],
   "source": [
    "import random \n",
    "try: \n",
    "    def total_tax(sal,tax=15): \n",
    "        tax_amnt=(sal*tax)/100 \n",
    "        print(\"your tax amount = \",tax_amnt)\n",
    "\n",
    "    total_tax(eval(input(\"Enter your salary: \")))\n",
    "except Exception as err: \n",
    "    print(err)"
   ]
  },
  {
   "cell_type": "code",
   "execution_count": 35,
   "id": "ce5b58e8",
   "metadata": {},
   "outputs": [
    {
     "ename": "SyntaxError",
     "evalue": "invalid syntax (1425603485.py, line 5)",
     "output_type": "error",
     "traceback": [
      "\u001b[1;36m  Cell \u001b[1;32mIn[35], line 5\u001b[1;36m\u001b[0m\n\u001b[1;33m    def total_tax(sal,15):\u001b[0m\n\u001b[1;37m                      ^\u001b[0m\n\u001b[1;31mSyntaxError\u001b[0m\u001b[1;31m:\u001b[0m invalid syntax\n"
     ]
    }
   ],
   "source": [
    "# ERROR :Can't pass direct values\n",
    "\n",
    "import random \n",
    "try: \n",
    "    def total_tax(sal,15): \n",
    "        tax_amnt=(sal*15)/100 \n",
    "        print(\"your tax amount = \",tax_amnt)\n",
    "\n",
    "    total_tax(eval(input(\"Enter your salary: \")))\n",
    "except Exception as err: \n",
    "    print(err)"
   ]
  },
  {
   "cell_type": "code",
   "execution_count": 36,
   "id": "ff87732d",
   "metadata": {},
   "outputs": [
    {
     "name": "stdout",
     "output_type": "stream",
     "text": [
      "Enter your salary: 10000\n",
      "your tax amount =  1500.0\n"
     ]
    }
   ],
   "source": [
    "import random \n",
    "try: \n",
    "    def total_tax(sal): \n",
    "        tax_amnt=(sal*15)/100 \n",
    "        print(\"your tax amount = \",tax_amnt)\n",
    "\n",
    "    total_tax(eval(input(\"Enter your salary: \")))\n",
    "except Exception as err: \n",
    "    print(err)"
   ]
  },
  {
   "cell_type": "code",
   "execution_count": 37,
   "id": "ee6991fc",
   "metadata": {},
   "outputs": [
    {
     "name": "stdout",
     "output_type": "stream",
     "text": [
      "Enter a number: 2\n",
      "Random number generated =  8\n",
      "Since both the numbers are NOT equal sorry to say, YOU LOST\n"
     ]
    }
   ],
   "source": [
    "try:\n",
    "    import random\n",
    "    def random_no(num1,num2):\n",
    "        # try:\n",
    "            #num2=random.randint(1,20)\n",
    "            print(\"Random number generated = \",num1)\n",
    "            if (num1==num2):\n",
    "                print(\"Since both the numbers are equal YOU WON\")\n",
    "            else:\n",
    "                print(\"Since both the numbers are NOT equal sorry to say, YOU LOST\")\n",
    "\n",
    "        # except Exception as err:\n",
    "        #   print(err)\n",
    "\n",
    "    #a=eval(input(\"Enter a number: \"))\n",
    "    #random_no(a)\n",
    "    random_no(random.randint(1,20),eval(input(\"Enter a number: \")))\n",
    "    \n",
    "except Exception as err:\n",
    "    print(err)"
   ]
  },
  {
   "cell_type": "markdown",
   "id": "4346b73a",
   "metadata": {},
   "source": [
    "# From package name import function name"
   ]
  },
  {
   "cell_type": "code",
   "execution_count": 41,
   "id": "1b8a60cb",
   "metadata": {},
   "outputs": [
    {
     "data": {
      "text/plain": [
       "13"
      ]
     },
     "execution_count": 41,
     "metadata": {},
     "output_type": "execute_result"
    }
   ],
   "source": [
    "\n",
    "\n",
    "from random import randint\n",
    "randint(1,18)"
   ]
  },
  {
   "cell_type": "code",
   "execution_count": 2,
   "id": "5ebbc8cf",
   "metadata": {},
   "outputs": [
    {
     "name": "stdout",
     "output_type": "stream",
     "text": [
      "AAA   lll  studies in class  7\n"
     ]
    }
   ],
   "source": [
    "def details(f_name,l_name,std):\n",
    "    print(f_name,\" \",l_name,\" studies in class \",std)\n",
    "\n",
    "details(\"AAA\",\"lll\",7)"
   ]
  },
  {
   "cell_type": "code",
   "execution_count": 5,
   "id": "76b565b3",
   "metadata": {},
   "outputs": [
    {
     "name": "stdout",
     "output_type": "stream",
     "text": [
      "AAA   lll  studies in class  BTech\n"
     ]
    }
   ],
   "source": [
    "def details(f_name,l_name,std=\"BTech\"):\n",
    "    print(f_name,\" \",l_name,\" studies in class \",std)\n",
    "\n",
    "details(\"AAA\",\"lll\")"
   ]
  },
  {
   "cell_type": "code",
   "execution_count": 6,
   "id": "0bfd0564",
   "metadata": {},
   "outputs": [
    {
     "name": "stdout",
     "output_type": "stream",
     "text": [
      "Shaurya   Sanku  studies in class  B Tech\n"
     ]
    }
   ],
   "source": [
    "def details(f_name,l_name=\"Sanku\",std=\"B Tech\"):\n",
    "    print(f_name,\" \",l_name,\" studies in class \",std)\n",
    "\n",
    "details(\"Shaurya\")"
   ]
  },
  {
   "cell_type": "code",
   "execution_count": 7,
   "id": "f9bd8a13",
   "metadata": {},
   "outputs": [
    {
     "name": "stdout",
     "output_type": "stream",
     "text": [
      "Shaurya   Sanku  studies in class  1st Sem B TEch EEE\n"
     ]
    }
   ],
   "source": [
    "def details(f_name,l_name=\"Sanku\",std=\"B Tech\"):\n",
    "    print(f_name,\" \",l_name,\" studies in class \",std)\n",
    "\n",
    "details(\"Shaurya\",std=\"1st Sem B TEch EEE\")"
   ]
  },
  {
   "cell_type": "code",
   "execution_count": 8,
   "id": "5d3defe2",
   "metadata": {},
   "outputs": [
    {
     "name": "stdout",
     "output_type": "stream",
     "text": [
      "Shaurya   Jangam  studies in class  1st Sem B TEch EEE\n"
     ]
    }
   ],
   "source": [
    "def details(f_name,l_name=\"Sanku\",std=\"B Tech\"):\n",
    "    print(f_name,\" \",l_name,\" studies in class \",std)\n",
    "\n",
    "details(\"Shaurya\",std=\"1st Sem B TEch EEE\",l_name=\"Jangam\")"
   ]
  },
  {
   "cell_type": "code",
   "execution_count": null,
   "id": "d37a82a6",
   "metadata": {},
   "outputs": [],
   "source": []
  }
 ],
 "metadata": {
  "kernelspec": {
   "display_name": "Python 3 (ipykernel)",
   "language": "python",
   "name": "python3"
  },
  "language_info": {
   "codemirror_mode": {
    "name": "ipython",
    "version": 3
   },
   "file_extension": ".py",
   "mimetype": "text/x-python",
   "name": "python",
   "nbconvert_exporter": "python",
   "pygments_lexer": "ipython3",
   "version": "3.11.5"
  }
 },
 "nbformat": 4,
 "nbformat_minor": 5
}
