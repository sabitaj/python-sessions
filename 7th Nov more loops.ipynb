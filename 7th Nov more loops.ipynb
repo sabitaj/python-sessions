{
 "cells": [
  {
   "cell_type": "code",
   "execution_count": 16,
   "id": "22a1df6a",
   "metadata": {},
   "outputs": [
    {
     "name": "stdout",
     "output_type": "stream",
     "text": [
      "The sum of first 10 natural numbers =  55\n"
     ]
    }
   ],
   "source": [
    "try:\n",
    "    total=0\n",
    "    for i in range(1,11):\n",
    "        total=total+i\n",
    "    print(\"The sum of first 10 natural numbers = \",sum)\n",
    "    \n",
    "except Exception as err:\n",
    "    print(err)"
   ]
  },
  {
   "cell_type": "code",
   "execution_count": 17,
   "id": "0a8b99fa",
   "metadata": {},
   "outputs": [
    {
     "name": "stdout",
     "output_type": "stream",
     "text": [
      "1 + 2 + 3 + 4 + 5 + 6 + 7 + 8 + 9 + 10 = 55\n",
      "The sum of first 10 natural numbers =  55\n"
     ]
    }
   ],
   "source": [
    "try:\n",
    "    total=0\n",
    "    for i in range(1,11):\n",
    "        total=total+i\n",
    "        if(i!=10):\n",
    "            print(i,'+ ',end='')\n",
    "        else:\n",
    "            print(i,'=',total)\n",
    "            \n",
    "    print(\"The sum of first 10 natural numbers = \",sum)\n",
    "    \n",
    "except Exception as err:\n",
    "    print(err)"
   ]
  },
  {
   "cell_type": "code",
   "execution_count": 20,
   "id": "1bdac137",
   "metadata": {},
   "outputs": [
    {
     "name": "stdout",
     "output_type": "stream",
     "text": [
      "14  is an even number\n",
      "10  is an even number\n",
      "27  is an odd number\n",
      "13  is an odd number\n",
      "18  is an even number\n",
      "\n",
      "There are 3 even and 2 odd numbers.\n"
     ]
    }
   ],
   "source": [
    "import random\n",
    "even=0\n",
    "odd=0\n",
    "for i in range(5):\n",
    "    num1=random.randint(10,30)\n",
    "    if(num1%2==0):\n",
    "        even=even+1\n",
    "        print(num1,\" is an even number\")\n",
    "    else:\n",
    "        odd=odd+1\n",
    "        print(num1,\" is an odd number\")\n",
    "        \n",
    "print()\n",
    "print(\"There are {} even and {} odd numbers.\".format(even,odd))"
   ]
  },
  {
   "cell_type": "code",
   "execution_count": 25,
   "id": "30ba5671",
   "metadata": {},
   "outputs": [
    {
     "name": "stdout",
     "output_type": "stream",
     "text": [
      "53\n",
      "90\n",
      "68\n",
      "51\n",
      "99\n",
      "87\n",
      "57\n",
      "64\n",
      "\n",
      "There are a total of 8 numbers larger than 50.\n"
     ]
    }
   ],
   "source": [
    "import random\n",
    "try:\n",
    "    num_count=0\n",
    "    for i in range(10):\n",
    "        num=random.randint(1,99)\n",
    "        \n",
    "        if(num>50):\n",
    "            print(num)\n",
    "            num_count+=1\n",
    "    \n",
    "    print()\n",
    "    print(\"There are a total of {} numbers larger than 50.\".format(num_count))\n",
    "    \n",
    "except Exception as err:\n",
    "    print(err)"
   ]
  },
  {
   "cell_type": "code",
   "execution_count": 29,
   "id": "afdd4e33",
   "metadata": {},
   "outputs": [
    {
     "name": "stdout",
     "output_type": "stream",
     "text": [
      "Enter a number: 10\n",
      "10 is divisible by 1.\n",
      "10 is divisible by 2.\n",
      "10 is divisible by 5.\n",
      "10 is divisible by 10.\n",
      "\n",
      "10 has 4 divisors.\n"
     ]
    }
   ],
   "source": [
    "try:\n",
    "    num=eval(input(\"Enter a number: \"))\n",
    "    divisor_count=0\n",
    "    \n",
    "    for i in range(1,num+1):\n",
    "        if(num%i==0):\n",
    "            print(\"{} is divisible by {}.\".format(num,i))\n",
    "            divisor_count+=1\n",
    "    \n",
    "    print()\n",
    "    print(\"{} has {} divisors.\".format(num,divisor_count))\n",
    "            \n",
    "except Exception as err:\n",
    "    print(err)"
   ]
  },
  {
   "cell_type": "code",
   "execution_count": 31,
   "id": "5179fc68",
   "metadata": {},
   "outputs": [
    {
     "name": "stdout",
     "output_type": "stream",
     "text": [
      "Enter a number: 10\n",
      "10 is divisible by 1.\n",
      "10 is divisible by 2.\n",
      "10 is divisible by 5.\n",
      "10 is divisible by 10.\n",
      "\n",
      "10 has 4 divisors.\n",
      "10 has 6 non divisors.\n"
     ]
    }
   ],
   "source": [
    "try:\n",
    "    num=eval(input(\"Enter a number: \"))\n",
    "    divisor_count=0\n",
    "    non_divisor_count=0\n",
    "    \n",
    "    for i in range(1,num+1):\n",
    "        if(num%i==0):\n",
    "            print(\"{} is divisible by {}.\".format(num,i))\n",
    "            divisor_count+=1\n",
    "        else:\n",
    "            non_divisor_count+=1\n",
    "    \n",
    "    print()\n",
    "    print(\"{} has {} divisors.\".format(num,divisor_count))\n",
    "    print(\"{} has {} non divisors.\".format(num,non_divisor_count))        \n",
    "    \n",
    "except Exception as err:\n",
    "    print(err)"
   ]
  },
  {
   "cell_type": "code",
   "execution_count": 38,
   "id": "4144260d",
   "metadata": {},
   "outputs": [
    {
     "name": "stdout",
     "output_type": "stream",
     "text": [
      "Enter a number: 10\n",
      "10 is divisible by 1.\n",
      "10 is divisible by 2.\n",
      "10 is divisible by 5.\n",
      "10 is divisible by 10.\n",
      "\n",
      "10 has 4 divisors.\n",
      "10 has 6 non divisors.\n"
     ]
    }
   ],
   "source": [
    "try:\n",
    "    \n",
    "    def divsr_count(num):\n",
    "        divisor_count=0\n",
    "        non_divisor_count=0\n",
    "        \n",
    "        for i in range(1,num+1):\n",
    "            if(num%i==0):\n",
    "                print(\"{} is divisible by {}.\".format(num,i))\n",
    "                divisor_count+=1\n",
    "            else:\n",
    "                non_divisor_count+=1\n",
    "        return divisor_count,non_divisor_count\n",
    "    \n",
    "    \n",
    "    #global num\n",
    "    num=eval(input(\"Enter a number: \"))\n",
    "    a,b=divsr_count(num)\n",
    "    print()\n",
    "    print(\"{} has {} divisors.\".format(num,a))\n",
    "    print(\"{} has {} non divisors.\".format(num,b))        \n",
    "    \n",
    "except Exception as err:\n",
    "    print(err)"
   ]
  },
  {
   "cell_type": "code",
   "execution_count": null,
   "id": "483ebdd2",
   "metadata": {},
   "outputs": [],
   "source": []
  },
  {
   "cell_type": "code",
   "execution_count": null,
   "id": "933fb408",
   "metadata": {},
   "outputs": [],
   "source": []
  }
 ],
 "metadata": {
  "kernelspec": {
   "display_name": "Python 3 (ipykernel)",
   "language": "python",
   "name": "python3"
  },
  "language_info": {
   "codemirror_mode": {
    "name": "ipython",
    "version": 3
   },
   "file_extension": ".py",
   "mimetype": "text/x-python",
   "name": "python",
   "nbconvert_exporter": "python",
   "pygments_lexer": "ipython3",
   "version": "3.11.5"
  }
 },
 "nbformat": 4,
 "nbformat_minor": 5
}
