{
 "cells": [
  {
   "cell_type": "markdown",
   "id": "c6e43978",
   "metadata": {},
   "source": [
    "### Loops concept\n",
    "    - for loop\n",
    "    -while loop"
   ]
  },
  {
   "cell_type": "code",
   "execution_count": null,
   "id": "f3e40b60",
   "metadata": {},
   "outputs": [],
   "source": [
    "###  First type\n",
    "    for i in range(stop value):\n",
    "    - here default start value will be 0\n",
    "    - default incrementation \n",
    "    - end point is stop value -1\n",
    "    \n",
    "### Second type\n",
    "    for i in range(start,stop):\n",
    "    - default incrementation\n",
    "    - stops at stop-1\n",
    "    \n",
    "### Third type:\n",
    "    for i in range(start,stop,increment/decrement)"
   ]
  },
  {
   "cell_type": "code",
   "execution_count": 1,
   "id": "4892ff63",
   "metadata": {},
   "outputs": [
    {
     "name": "stdout",
     "output_type": "stream",
     "text": [
      "0\n",
      "1\n",
      "2\n",
      "3\n",
      "4\n",
      "5\n",
      "6\n",
      "7\n",
      "8\n",
      "9\n"
     ]
    }
   ],
   "source": [
    "for i in range(10):\n",
    "    print(i)"
   ]
  },
  {
   "cell_type": "code",
   "execution_count": 2,
   "id": "d939e2bd",
   "metadata": {},
   "outputs": [
    {
     "name": "stdout",
     "output_type": "stream",
     "text": [
      "0\n",
      "1\n",
      "2\n",
      "3\n",
      "4\n",
      "5\n",
      "6\n",
      "7\n",
      "8\n",
      "9\n",
      "10\n",
      "11\n",
      "12\n",
      "13\n",
      "14\n",
      "15\n",
      "16\n",
      "17\n",
      "18\n",
      "19\n",
      "20\n",
      "21\n",
      "22\n",
      "23\n",
      "24\n"
     ]
    }
   ],
   "source": [
    "for i in range(25):\n",
    "    print(i)"
   ]
  },
  {
   "cell_type": "code",
   "execution_count": 6,
   "id": "2814bbba",
   "metadata": {},
   "outputs": [
    {
     "ename": "SyntaxError",
     "evalue": "positional argument follows keyword argument (613269844.py, line 1)",
     "output_type": "error",
     "traceback": [
      "\u001b[1;36m  Cell \u001b[1;32mIn[6], line 1\u001b[1;36m\u001b[0m\n\u001b[1;33m    print(\"Hello\",end='',\"how\",end='',\"are you\",end='')\u001b[0m\n\u001b[1;37m                                               ^\u001b[0m\n\u001b[1;31mSyntaxError\u001b[0m\u001b[1;31m:\u001b[0m positional argument follows keyword argument\n"
     ]
    }
   ],
   "source": [
    "print(\"Hello\",end='',\"how\",end='',\"are you\",end='')"
   ]
  },
  {
   "cell_type": "code",
   "execution_count": 8,
   "id": "7812a662",
   "metadata": {},
   "outputs": [
    {
     "name": "stdout",
     "output_type": "stream",
     "text": [
      "0  1  2  3  4  5  6  7  8  9  "
     ]
    }
   ],
   "source": [
    "for i in range(10):\n",
    "    print(i,end='  ')"
   ]
  },
  {
   "cell_type": "code",
   "execution_count": 9,
   "id": "28b63036",
   "metadata": {},
   "outputs": [
    {
     "name": "stdout",
     "output_type": "stream",
     "text": [
      "10\n",
      "11\n",
      "12\n",
      "13\n",
      "14\n",
      "15\n",
      "16\n",
      "17\n",
      "18\n",
      "19\n",
      "20\n"
     ]
    }
   ],
   "source": [
    "for i in range(10,21):\n",
    "    print(i)"
   ]
  },
  {
   "cell_type": "code",
   "execution_count": 10,
   "id": "54259049",
   "metadata": {},
   "outputs": [
    {
     "name": "stdout",
     "output_type": "stream",
     "text": [
      "10   11   12   13   14   15   "
     ]
    }
   ],
   "source": [
    "for i in range(10,16):\n",
    "    print(i,end='   ')"
   ]
  },
  {
   "cell_type": "code",
   "execution_count": 11,
   "id": "f2918006",
   "metadata": {},
   "outputs": [
    {
     "name": "stdout",
     "output_type": "stream",
     "text": [
      "20   25   30   35   40   45   50   "
     ]
    }
   ],
   "source": [
    "for i in range(20,51,5):\n",
    "    print(i,end='   ')"
   ]
  },
  {
   "cell_type": "code",
   "execution_count": 12,
   "id": "997a28e5",
   "metadata": {},
   "outputs": [
    {
     "name": "stdout",
     "output_type": "stream",
     "text": [
      "10   15   20   25   "
     ]
    }
   ],
   "source": [
    "for i in range(10,30,5):\n",
    "    print(i,end='   ')"
   ]
  },
  {
   "cell_type": "code",
   "execution_count": 15,
   "id": "c8f63816",
   "metadata": {},
   "outputs": [
    {
     "name": "stdout",
     "output_type": "stream",
     "text": [
      "50   40   30   20   "
     ]
    }
   ],
   "source": [
    "for i in range(50,19,-10):\n",
    "    print(i,end='   ')"
   ]
  },
  {
   "cell_type": "code",
   "execution_count": 21,
   "id": "3c6e85e0",
   "metadata": {},
   "outputs": [
    {
     "name": "stdout",
     "output_type": "stream",
     "text": [
      "\n",
      "1 \n",
      "1 2 \n",
      "1 2 3 \n",
      "1 2 3 4 \n",
      "1 2 3 4 5 "
     ]
    }
   ],
   "source": [
    "for i in range(1,6):\n",
    "    print()\n",
    "    for j in range(1,i+1):\n",
    "        print(j,end=' ')"
   ]
  },
  {
   "cell_type": "code",
   "execution_count": 29,
   "id": "cbcae68c",
   "metadata": {},
   "outputs": [
    {
     "name": "stdout",
     "output_type": "stream",
     "text": [
      "\n",
      "1 \n",
      "1 2 \n",
      "1 2 3 \n",
      "1 2 3 4 \n",
      "1 2 3 4 5 \n",
      "1 2 3 4 \n",
      "1 2 3 \n",
      "1 2 \n",
      "1 "
     ]
    }
   ],
   "source": [
    "for x in range(1,6):\n",
    "    print()\n",
    "    for y in range(1,x+1):\n",
    "        print(y,end=' ')\n",
    "\n",
    "for p in range(5,1,-1):\n",
    "    print()\n",
    "    for q in range(1,p):\n",
    "        print(q,end=' ')"
   ]
  },
  {
   "cell_type": "code",
   "execution_count": null,
   "id": "34caa0d9",
   "metadata": {},
   "outputs": [],
   "source": [
    "### sep (separator) operator"
   ]
  },
  {
   "cell_type": "code",
   "execution_count": 30,
   "id": "c82985ff",
   "metadata": {},
   "outputs": [
    {
     "name": "stdout",
     "output_type": "stream",
     "text": [
      "Name : Shaurya\n"
     ]
    }
   ],
   "source": [
    "print(\"Name \",\"Shaurya\",sep=': ')"
   ]
  },
  {
   "cell_type": "markdown",
   "id": "6ef64a47",
   "metadata": {},
   "source": [
    "### Practice on HackerRank website, very imp"
   ]
  }
 ],
 "metadata": {
  "kernelspec": {
   "display_name": "Python 3 (ipykernel)",
   "language": "python",
   "name": "python3"
  },
  "language_info": {
   "codemirror_mode": {
    "name": "ipython",
    "version": 3
   },
   "file_extension": ".py",
   "mimetype": "text/x-python",
   "name": "python",
   "nbconvert_exporter": "python",
   "pygments_lexer": "ipython3",
   "version": "3.11.5"
  }
 },
 "nbformat": 4,
 "nbformat_minor": 5
}
