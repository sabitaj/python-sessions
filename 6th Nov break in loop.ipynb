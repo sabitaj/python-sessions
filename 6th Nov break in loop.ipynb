{
 "cells": [
  {
   "cell_type": "code",
   "execution_count": 2,
   "id": "5aa165bd",
   "metadata": {},
   "outputs": [
    {
     "name": "stdout",
     "output_type": "stream",
     "text": [
      "Hello!\n",
      "Hello!\n",
      "Hello!\n"
     ]
    }
   ],
   "source": [
    "try:\n",
    "    for i in range(3):\n",
    "        print(\"Hello!\")\n",
    "    \n",
    "except Exception as err:\n",
    "    print(err)"
   ]
  },
  {
   "cell_type": "code",
   "execution_count": 5,
   "id": "971da335",
   "metadata": {},
   "outputs": [
    {
     "name": "stdout",
     "output_type": "stream",
     "text": [
      "A /n B\n",
      "A /n B\n",
      "A /n B\n",
      "C\n",
      "C\n",
      "C\n"
     ]
    }
   ],
   "source": [
    "try:\n",
    "    for i in range(3):\n",
    "        print('A','/n','B')\n",
    "        \n",
    "    for i in range(3):\n",
    "        print('C')\n",
    "except Exception as err:\n",
    "    print(err)"
   ]
  },
  {
   "cell_type": "code",
   "execution_count": 7,
   "id": "c52d3447",
   "metadata": {},
   "outputs": [
    {
     "name": "stdout",
     "output_type": "stream",
     "text": [
      "Square of  10  is 100\n",
      "Square of  11  is 121\n",
      "Square of  12  is 144\n",
      "Square of  13  is 169\n",
      "Square of  14  is 196\n",
      "Square of  15  is 225\n"
     ]
    }
   ],
   "source": [
    "try:\n",
    "    for i in range(10,16):\n",
    "        print(\"Square of \",i,\" is {}\".format(i*i))\n",
    "    \n",
    "except Exception as err:\n",
    "    print(err)"
   ]
  },
  {
   "cell_type": "code",
   "execution_count": 10,
   "id": "e0fa87e4",
   "metadata": {},
   "outputs": [
    {
     "name": "stdout",
     "output_type": "stream",
     "text": [
      "From which number you want to begin: 2\n",
      "Which number you want to end with: 3\n",
      "\n",
      "Square of  2  is 4\n",
      "Square of  3  is 9\n"
     ]
    }
   ],
   "source": [
    "try:\n",
    "    \n",
    "        num_begin=eval(input(\"From which number you want to begin: \"))\n",
    "        num_end=eval(input(\"Which number you want to end with: \"))\n",
    "\n",
    "        print()\n",
    "        for i in range(num_begin,(num_end+1)):\n",
    "            print(\"Square of \",i,\" is {}\".format(i*i))\n",
    "   \n",
    "    \n",
    "except Exception as err:\n",
    "    print(err)"
   ]
  },
  {
   "cell_type": "code",
   "execution_count": 11,
   "id": "56ca2b0c",
   "metadata": {},
   "outputs": [
    {
     "name": "stdout",
     "output_type": "stream",
     "text": [
      "From which number you want to begin: 3\n",
      "Which number you want to end with: 7\n",
      "\n",
      "Square of  3  is 9\n",
      "Square of  4  is 16\n",
      "Square of  5  is 25\n",
      "Square of  6  is 36\n",
      "Square of  7  is 49\n"
     ]
    }
   ],
   "source": [
    "try:\n",
    "    def pattern1():\n",
    "        num_begin=eval(input(\"From which number you want to begin: \"))\n",
    "        num_end=eval(input(\"Which number you want to end with: \"))\n",
    "\n",
    "        print()\n",
    "        for i in range(num_begin,(num_end+1)):\n",
    "            print(\"Square of \",i,\" is {}\".format(i*i))\n",
    "    \n",
    "    pattern1()\n",
    "    \n",
    "except Exception as err:\n",
    "    print(err)"
   ]
  },
  {
   "cell_type": "code",
   "execution_count": 12,
   "id": "b6437135",
   "metadata": {},
   "outputs": [
    {
     "name": "stdout",
     "output_type": "stream",
     "text": [
      "From which number you want to begin: 2\n",
      "Which number you want to end with: 7\n",
      "\n",
      "Square of  2  is 4\n",
      "Square of  3  is 9\n",
      "Square of  4  is 16\n",
      "Square of  5  is 25\n",
      "Square of  6  is 36\n",
      "Square of  7  is 49\n"
     ]
    }
   ],
   "source": [
    "try:\n",
    "    def pattern1(num1,num2):\n",
    "        print()\n",
    "        for i in range(num1,(num2+1)):\n",
    "            print(\"Square of \",i,\" is {}\".format(i*i))\n",
    "    \n",
    "    \n",
    "    num_begin=eval(input(\"From which number you want to begin: \"))\n",
    "    num_end=eval(input(\"Which number you want to end with: \"))\n",
    "\n",
    "    pattern1(num_begin,num_end)\n",
    "    \n",
    "except Exception as err:\n",
    "    print(err)"
   ]
  },
  {
   "cell_type": "code",
   "execution_count": 15,
   "id": "460c86d0",
   "metadata": {},
   "outputs": [
    {
     "name": "stdout",
     "output_type": "stream",
     "text": [
      "Enter the number you want to print: 3\n",
      "The square of 9 \n",
      "The square of 9 \n",
      "The square of 9 \n",
      "The square of 9 \n",
      "The square of 9 \n",
      "Enter the number you want to print: 4\n",
      "The square of 16 \n",
      "The square of 16 \n",
      "The square of 16 \n",
      "The square of 16 \n",
      "The square of 16 \n",
      "Enter the number you want to print: 5\n",
      "The square of 25 \n",
      "The square of 25 \n",
      "The square of 25 \n",
      "The square of 25 \n",
      "The square of 25 \n",
      "Enter the number you want to print: 6\n",
      "The square of 36 \n",
      "The square of 36 \n",
      "The square of 36 \n",
      "The square of 36 \n",
      "The square of 36 \n",
      "Enter the number you want to print: 7\n",
      "The square of 49 \n",
      "The square of 49 \n",
      "The square of 49 \n",
      "The square of 49 \n",
      "The square of 49 \n"
     ]
    }
   ],
   "source": [
    "try:\n",
    "    for x in range(5):\n",
    "        num=eval(input(\"Enter the number you want to print: \"))\n",
    "        for y in range(5):\n",
    "            print(\"The square of {} \".format(num*num))\n",
    "    \n",
    "except Exception as err:\n",
    "    print(err)"
   ]
  },
  {
   "cell_type": "code",
   "execution_count": 20,
   "id": "3d9696a2",
   "metadata": {},
   "outputs": [
    {
     "name": "stdout",
     "output_type": "stream",
     "text": [
      "The square of the random number 3 is 9\n",
      "The square of the random number 11 is 121\n",
      "The square of the random number 17 is 289\n",
      "The square of the random number 15 is 225\n",
      "The square of the random number 5 is 25\n"
     ]
    }
   ],
   "source": [
    "import random\n",
    "try:\n",
    "   \n",
    "    for i in range(5):\n",
    "        num=random.randint(1,20)\n",
    "        print(\"The square of the random number {} is {}\".format(num,(num*num)))\n",
    "    \n",
    "except Exception as err:\n",
    "    print(err)"
   ]
  },
  {
   "cell_type": "code",
   "execution_count": 22,
   "id": "d4c2dd6e",
   "metadata": {},
   "outputs": [
    {
     "name": "stdout",
     "output_type": "stream",
     "text": [
      "10 is an even number.\n",
      "11 is an odd number.\n",
      "12 is an even number.\n",
      "13 is an odd number.\n",
      "14 is an even number.\n",
      "15 is an odd number.\n",
      "16 is an even number.\n",
      "17 is an odd number.\n",
      "18 is an even number.\n",
      "19 is an odd number.\n",
      "20 is an even number.\n",
      "21 is an odd number.\n",
      "22 is an even number.\n",
      "23 is an odd number.\n",
      "24 is an even number.\n",
      "25 is an odd number.\n",
      "26 is an even number.\n",
      "27 is an odd number.\n",
      "28 is an even number.\n",
      "29 is an odd number.\n"
     ]
    }
   ],
   "source": [
    "try:\n",
    "    for i in range(10,30):\n",
    "        if(i%2==0):\n",
    "            print(\"{} is an even number.\".format(i))\n",
    "        else:\n",
    "            print(\"{} is an odd number.\".format(i))\n",
    "    \n",
    "except Exception as err:\n",
    "    print(err)"
   ]
  },
  {
   "cell_type": "code",
   "execution_count": 24,
   "id": "27213c98",
   "metadata": {},
   "outputs": [
    {
     "name": "stdout",
     "output_type": "stream",
     "text": [
      "22 is an even number.\n",
      "25 is an odd number.\n",
      "23 is an odd number.\n",
      "19 is an odd number.\n",
      "27 is an odd number.\n"
     ]
    }
   ],
   "source": [
    "import random\n",
    "try:\n",
    "    for i in range(5):\n",
    "        num=random.randint(10,30)\n",
    "        if(num%2==0):\n",
    "            print(\"{} is an even number.\".format(num))\n",
    "        else:\n",
    "            print(\"{} is an odd number.\".format(num))\n",
    "            \n",
    "except Exception as err:\n",
    "    print(err)"
   ]
  },
  {
   "cell_type": "code",
   "execution_count": 25,
   "id": "5723a4d8",
   "metadata": {},
   "outputs": [
    {
     "name": "stdout",
     "output_type": "stream",
     "text": [
      "18 is an even number.\n",
      "26 is an even number.\n",
      "24 is an even number.\n",
      "29 is an odd number.\n",
      "17 is an odd number.\n"
     ]
    }
   ],
   "source": [
    "import random\n",
    "try:\n",
    "    def even_odd():\n",
    "        for i in range(5):\n",
    "            num=random.randint(10,30)\n",
    "            if(num%2==0):\n",
    "                print(\"{} is an even number.\".format(num))\n",
    "            else:\n",
    "                print(\"{} is an odd number.\".format(num))\n",
    "    even_odd()\n",
    "\n",
    "except Exception as err:\n",
    "    print(err)"
   ]
  },
  {
   "cell_type": "code",
   "execution_count": 27,
   "id": "927eeb6c",
   "metadata": {},
   "outputs": [
    {
     "name": "stdout",
     "output_type": "stream",
     "text": [
      "17 is an odd number.\n",
      "20 is an even number.\n",
      "23 is an odd number.\n",
      "19 is an odd number.\n",
      "22 is an even number.\n"
     ]
    }
   ],
   "source": [
    "import random\n",
    "try:\n",
    "    def even_odd(num):\n",
    "        if(num%2==0):\n",
    "            print(\"{} is an even number.\".format(num))\n",
    "        else:\n",
    "            print(\"{} is an odd number.\".format(num))\n",
    "        \n",
    "    for i in range(5):\n",
    "        num=random.randint(10,30)\n",
    "        even_odd(num)\n",
    "\n",
    "except Exception as err:\n",
    "    print(err)"
   ]
  },
  {
   "cell_type": "code",
   "execution_count": 47,
   "id": "bbd1d85c",
   "metadata": {},
   "outputs": [
    {
     "name": "stdout",
     "output_type": "stream",
     "text": [
      "Enter a number between 1 and 10: 5\n",
      "\n",
      "Since 9 and 5 doesn't match, Sorry! You lost\n",
      "Enter a number between 1 and 10: 9\n",
      "\n",
      "Because 9 and 9 match, You won!\n",
      "Enter a number between 1 and 10: 9\n",
      "\n",
      "Because 9 and 9 match, You won!\n"
     ]
    }
   ],
   "source": [
    "import random\n",
    "num1=random.randint(1,10)\n",
    "for i in range (3):\n",
    "    num2=eval(input(\"Enter a number between 1 and 10: \"))\n",
    "    \n",
    "    print()\n",
    "    if(num1==num2):\n",
    "        print(\"Because {} and {} match, You won!\".format(num1,num2))\n",
    "    else:\n",
    "        print(\"Since {} and {} doesn't match, Sorry! You lost\".format(num1,num2))"
   ]
  },
  {
   "cell_type": "markdown",
   "id": "63c9f9d9",
   "metadata": {},
   "source": [
    "### break statement to break a code"
   ]
  },
  {
   "cell_type": "code",
   "execution_count": 48,
   "id": "a8342682",
   "metadata": {},
   "outputs": [
    {
     "name": "stdout",
     "output_type": "stream",
     "text": [
      "Enter a number between 1 and 10: 4\n",
      "\n",
      "Since 10 and 4 doesn't match, Sorry! You lost\n",
      "Enter a number between 1 and 10: 10\n",
      "\n",
      "Because 10 and 10 match, You won!\n"
     ]
    }
   ],
   "source": [
    "import random\n",
    "num1=random.randint(1,10)\n",
    "for i in range (3):\n",
    "    num2=eval(input(\"Enter a number between 1 and 10: \"))\n",
    "    \n",
    "    print()\n",
    "    if(num1==num2):\n",
    "        print(\"Because {} and {} match, You won!\".format(num1,num2))\n",
    "        break\n",
    "    else:\n",
    "        print(\"Since {} and {} doesn't match, Sorry! You lost\".format(num1,num2))"
   ]
  },
  {
   "cell_type": "code",
   "execution_count": 57,
   "id": "38e0b994",
   "metadata": {},
   "outputs": [
    {
     "name": "stdout",
     "output_type": "stream",
     "text": [
      "Enter a number between 1 and 10: 5\n",
      "\n",
      "Sorry! You lost\n",
      "You are left with 2 more chances.\n",
      "Enter a number between 1 and 10: 7\n",
      "\n",
      "Sorry! You lost\n",
      "You are left with 1 more chances.\n",
      "Enter a number between 1 and 10: 3\n",
      "\n",
      "Sorry! You lost\n",
      "All chances are over, please try next time.\n"
     ]
    }
   ],
   "source": [
    "import random\n",
    "num1=random.randint(1,10)\n",
    "for i in range (3):\n",
    "    num2=eval(input(\"Enter a number between 1 and 10: \"))\n",
    "    \n",
    "    print()\n",
    "    if(num1==num2):\n",
    "        print(\" You won!\")\n",
    "        break\n",
    "    else:\n",
    "        print(\"Sorry! You lost\")\n",
    "        if(2-i!=0):\n",
    "            print(\"You are left with {} more chances.\".format(2-i))\n",
    "        else:\n",
    "            print(\"All chances are over, please try next time.\")"
   ]
  },
  {
   "cell_type": "markdown",
   "id": "17863ecc",
   "metadata": {},
   "source": [
    "### Generate float random number"
   ]
  },
  {
   "cell_type": "code",
   "execution_count": 58,
   "id": "f7989459",
   "metadata": {},
   "outputs": [
    {
     "name": "stdout",
     "output_type": "stream",
     "text": [
      "0.2726175155783451\n"
     ]
    }
   ],
   "source": [
    "from random import random\n",
    "print(random())"
   ]
  },
  {
   "cell_type": "code",
   "execution_count": null,
   "id": "9a1071ab",
   "metadata": {},
   "outputs": [],
   "source": []
  },
  {
   "cell_type": "code",
   "execution_count": null,
   "id": "5edd7277",
   "metadata": {},
   "outputs": [],
   "source": []
  }
 ],
 "metadata": {
  "kernelspec": {
   "display_name": "Python 3 (ipykernel)",
   "language": "python",
   "name": "python3"
  },
  "language_info": {
   "codemirror_mode": {
    "name": "ipython",
    "version": 3
   },
   "file_extension": ".py",
   "mimetype": "text/x-python",
   "name": "python",
   "nbconvert_exporter": "python",
   "pygments_lexer": "ipython3",
   "version": "3.11.5"
  }
 },
 "nbformat": 4,
 "nbformat_minor": 5
}
